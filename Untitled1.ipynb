{
 "cells": [
  {
   "cell_type": "code",
   "execution_count": 299,
   "metadata": {},
   "outputs": [],
   "source": [
    "import numpy as np"
   ]
  },
  {
   "cell_type": "code",
   "execution_count": 300,
   "metadata": {},
   "outputs": [
    {
     "name": "stdout",
     "output_type": "stream",
     "text": [
      "M =\n",
      "[[0.  0.  0.  1.  0. ]\n",
      " [0.5 0.  0.  0.  0. ]\n",
      " [0.  0.5 0.  0.  0. ]\n",
      " [0.5 0.5 0.  0.  1. ]\n",
      " [0.  0.  0.  0.  0. ]]\n"
     ]
    }
   ],
   "source": [
    "#QUESTION 1\n",
    "\n",
    "M = np.array(\n",
    "    [[0  ,0  ,0,1,0], \n",
    "     [1/2,0  ,0,0,0],\n",
    "     [0  ,1/2,0,0,0],\n",
    "     [1/2,1/2,0,0,1],\n",
    "     [0  ,0  ,0,0,0]\n",
    "    \n",
    "    ])\n",
    "print(\"M =\")\n",
    "print(M) "
   ]
  },
  {
   "cell_type": "code",
   "execution_count": 301,
   "metadata": {},
   "outputs": [
    {
     "name": "stdout",
     "output_type": "stream",
     "text": [
      "A =\n",
      "[[0.03  0.03  0.03  0.88  0.03 ]\n",
      " [0.455 0.03  0.03  0.03  0.03 ]\n",
      " [0.03  0.455 0.03  0.03  0.03 ]\n",
      " [0.455 0.455 0.03  0.03  0.88 ]\n",
      " [0.03  0.03  0.03  0.03  0.03 ]]\n"
     ]
    }
   ],
   "source": [
    "#QUESTION 2\n",
    "\n",
    "#Teleport array\n",
    "T = np.array(\n",
    "    [[1/5,1/5,1/5,1/5,1/5],\n",
    "     [1/5,1/5,1/5,1/5,1/5],\n",
    "     [1/5,1/5,1/5,1/5,1/5],\n",
    "     [1/5,1/5,1/5,1/5,1/5],\n",
    "     [1/5,1/5,1/5,1/5,1/5]    \n",
    "    ])\n",
    "\n",
    "#Damping factor = 0.85\n",
    "A = .85*M + .15*T\n",
    "print(\"A =\")\n",
    "print(A)"
   ]
  },
  {
   "cell_type": "code",
   "execution_count": 302,
   "metadata": {},
   "outputs": [
    {
     "name": "stdout",
     "output_type": "stream",
     "text": [
      "Rank vector\n",
      "r = [0.2 0.2 0.2 0.2 0.2]\n"
     ]
    }
   ],
   "source": [
    "#QUESTION 3\n",
    "\n",
    "# Rank Vector r\n",
    "r = np.array([1/5,1/5,1/5,1/5,1/5])\n",
    "print(\"Rank vector\")\n",
    "print(\"r =\", r) "
   ]
  },
  {
   "cell_type": "code",
   "execution_count": 303,
   "metadata": {},
   "outputs": [],
   "source": [
    "#function for printing out the converged rank vector\n",
    "def print_vector(vector):\n",
    "    print(\"          Rank vector r' = [\", end = \" \")\n",
    "    for i in np.nditer(vector):\n",
    "        print('{:.5f}'.format(i), end =\" \")\n",
    "    print(\"]\")"
   ]
  },
  {
   "cell_type": "code",
   "execution_count": 304,
   "metadata": {},
   "outputs": [],
   "source": [
    "#function for finding convergence\n",
    "def find_converged(A, letter, r):\n",
    "    \n",
    "    n = 100\n",
    "    i = 0\n",
    "\n",
    "    epsilon = .00001\n",
    "    r2 = [0,0,0,0,0]\n",
    "\n",
    "    while i <= n:\n",
    "        prevr = r2\n",
    "        r2 = A.dot(r)\n",
    "        i = i+1 # update counter\n",
    "        r = np.round(r2, decimals=5)\n",
    "    \n",
    "        subbed = abs(r2 - prevr)\n",
    "        if (all(x < epsilon for x in subbed)):\n",
    "            print(\"-\", letter, \" matrix:\")\n",
    "            print(\"          At i = \", i , \"absolute value of the difference is less than ε = .00001\")\n",
    "            print_vector(r2)\n",
    "        \n",
    "            break"
   ]
  },
  {
   "cell_type": "code",
   "execution_count": 305,
   "metadata": {},
   "outputs": [
    {
     "name": "stdout",
     "output_type": "stream",
     "text": [
      "- A  matrix:\n",
      "          At i =  73 absolute value of the difference is less than ε = .00001\n",
      "          Rank vector r' = [ 0.00008 0.00005 0.00003 0.00008 0.00001 ]\n",
      "\n",
      "- M  matrix:\n",
      "          At i =  67 absolute value of the difference is less than ε = .00001\n",
      "          Rank vector r' = [ 0.00010 0.00006 0.00003 0.00009 0.00000 ]\n"
     ]
    }
   ],
   "source": [
    "#QUESTION 4 & 5\n",
    "\n",
    "find_converged(A, \"A\", r)\n",
    "print()\n",
    "find_converged(M, \"M\", r)"
   ]
  }
 ],
 "metadata": {
  "kernelspec": {
   "display_name": "Python 3",
   "language": "python",
   "name": "python3"
  },
  "language_info": {
   "codemirror_mode": {
    "name": "ipython",
    "version": 3
   },
   "file_extension": ".py",
   "mimetype": "text/x-python",
   "name": "python",
   "nbconvert_exporter": "python",
   "pygments_lexer": "ipython3",
   "version": "3.7.4"
  }
 },
 "nbformat": 4,
 "nbformat_minor": 2
}
